{
 "cells": [
  {
   "cell_type": "markdown",
   "metadata": {},
   "source": [
    "### Launch the ROS demo"
   ]
  },
  {
   "cell_type": "code",
   "execution_count": 1,
   "metadata": {
    "ExecuteTime": {
     "end_time": "2023-05-12T17:18:07.486882Z",
     "start_time": "2023-05-12T17:18:07.437791Z"
    }
   },
   "outputs": [],
   "source": [
    "%%bash --bg\n",
    "trap 'kill $(jobs -p)' EXIT\n",
    "xterm -e /bin/bash -l -c \"roslaunch demo.launch\""
   ]
  },
  {
   "cell_type": "markdown",
   "metadata": {},
   "source": [
    "### Python Code\n",
    "Import rospy and initialize a python ROS node"
   ]
  },
  {
   "cell_type": "code",
   "execution_count": 2,
   "metadata": {
    "ExecuteTime": {
     "end_time": "2023-05-12T17:18:08.332437Z",
     "start_time": "2023-05-12T17:18:08.067203Z"
    }
   },
   "outputs": [],
   "source": [
    "import rospy\n",
    "rospy.init_node('mynode')"
   ]
  },
  {
   "cell_type": "markdown",
   "metadata": {},
   "source": [
    "Load the robot model using the `JointStatePublisher`"
   ]
  },
  {
   "cell_type": "code",
   "execution_count": 3,
   "metadata": {
    "ExecuteTime": {
     "end_time": "2023-05-12T17:18:09.651813Z",
     "start_time": "2023-05-12T17:18:09.621153Z"
    }
   },
   "outputs": [],
   "source": [
    "# joint_state_publisher is not a python package, but a script installed in lib\n",
    "from robot_model import RobotModel\n",
    "robot = RobotModel()"
   ]
  },
  {
   "cell_type": "markdown",
   "metadata": {},
   "source": [
    "Create a publisher and `JointState` message"
   ]
  },
  {
   "cell_type": "code",
   "execution_count": 4,
   "metadata": {
    "ExecuteTime": {
     "end_time": "2023-05-12T17:18:10.626660Z",
     "start_time": "2023-05-12T17:18:10.620747Z"
    }
   },
   "outputs": [],
   "source": [
    "from sensor_msgs.msg import JointState\n",
    "pub = rospy.Publisher('/target_joint_states', JointState, queue_size=1)\n",
    "msg = JointState()"
   ]
  },
  {
   "cell_type": "markdown",
   "metadata": {},
   "source": [
    "Create a list slider widgets, one for each joint"
   ]
  },
  {
   "cell_type": "code",
   "execution_count": 5,
   "metadata": {
    "ExecuteTime": {
     "end_time": "2023-05-12T17:18:11.971192Z",
     "start_time": "2023-05-12T17:18:11.900900Z"
    }
   },
   "outputs": [],
   "source": [
    "import ipywidgets\n",
    "from ipywidgets import FloatSlider, Layout, Button, Box\n",
    "joint_widgets = [FloatSlider(min = j.min, max = j.max, step = (j.max-j.min) / 100, description = j.name) \\\n",
    "                 for j in robot.active_joints]"
   ]
  },
  {
   "cell_type": "markdown",
   "metadata": {},
   "source": [
    "Compute forward-kinematics and publish a frame marker"
   ]
  },
  {
   "cell_type": "code",
   "execution_count": 6,
   "metadata": {
    "ExecuteTime": {
     "end_time": "2023-05-12T17:18:12.763609Z",
     "start_time": "2023-05-12T17:18:12.645736Z"
    }
   },
   "outputs": [
    {
     "ename": "ImportError",
     "evalue": "cannot import name 'MarkerArray' from 'markers' (/home/salih/catkin_ws/src/lecture/notebook/markers.py)",
     "output_type": "error",
     "traceback": [
      "\u001b[0;31m---------------------------------------------------------------------------\u001b[0m",
      "\u001b[0;31mImportError\u001b[0m                               Traceback (most recent call last)",
      "Cell \u001b[0;32mIn[6], line 1\u001b[0m\n\u001b[0;32m----> 1\u001b[0m \u001b[38;5;28;01mfrom\u001b[39;00m \u001b[38;5;21;01mmarkers\u001b[39;00m \u001b[38;5;28;01mimport\u001b[39;00m frame, MarkerArray\n\u001b[1;32m      2\u001b[0m marker_pub \u001b[38;5;241m=\u001b[39m rospy\u001b[38;5;241m.\u001b[39mPublisher(\u001b[38;5;124m'\u001b[39m\u001b[38;5;124m/marker_array\u001b[39m\u001b[38;5;124m'\u001b[39m, MarkerArray, queue_size\u001b[38;5;241m=\u001b[39m\u001b[38;5;241m1\u001b[39m)\n\u001b[1;32m      4\u001b[0m \u001b[38;5;28;01mdef\u001b[39;00m \u001b[38;5;21mpublish_fk_marker\u001b[39m():\n",
      "\u001b[0;31mImportError\u001b[0m: cannot import name 'MarkerArray' from 'markers' (/home/salih/catkin_ws/src/lecture/notebook/markers.py)"
     ]
    }
   ],
   "source": [
    "from markers import frame, MarkerArray\n",
    "marker_pub = rospy.Publisher('/marker_array', MarkerArray, queue_size=1)\n",
    "\n",
    "def publish_fk_marker():\n",
    "    T, _ = robot.fk(link='panda_link8', joints={j.description: j.value for j in joint_widgets})\n",
    "    marker_pub.publish(frame(T))"
   ]
  },
  {
   "cell_type": "markdown",
   "metadata": {},
   "source": [
    "React to slider (value) changes by publishing this particular joint"
   ]
  },
  {
   "cell_type": "code",
   "execution_count": 7,
   "metadata": {
    "ExecuteTime": {
     "end_time": "2023-05-12T17:18:46.571245Z",
     "start_time": "2023-05-12T17:18:46.566032Z"
    }
   },
   "outputs": [],
   "source": [
    "def on_sent(event):\n",
    "    widget = event.owner\n",
    "    msg.name = [widget.description]\n",
    "    msg.position = [widget.value]\n",
    "    pub.publish(msg)\n",
    "    #publish_fk_marker()\n",
    "\n",
    "for widget in joint_widgets:\n",
    "    widget.observe(on_sent, 'value')"
   ]
  },
  {
   "cell_type": "markdown",
   "metadata": {},
   "source": [
    "Create a button to randomly generate a pose within joint limits"
   ]
  },
  {
   "cell_type": "code",
   "execution_count": 9,
   "metadata": {
    "ExecuteTime": {
     "end_time": "2023-05-12T17:18:55.276672Z",
     "start_time": "2023-05-12T17:18:55.270062Z"
    }
   },
   "outputs": [],
   "source": [
    "def set_joints(values):\n",
    "    for widget, value in values:\n",
    "        widget.unobserve(on_sent, 'value')\n",
    "        widget.value = value\n",
    "        widget.observe(on_sent, 'value')\n",
    "    msg.name, msg.position = zip(*[(widget.description, widget.value) for widget in joint_widgets])\n",
    "    pub.publish(msg)\n",
    "    #publish_fk_marker()\n",
    "\n",
    "import random\n",
    "def on_randomize(randomize):\n",
    "    set_joints([(widget, random.uniform(widget.min, widget.max)) for widget in joint_widgets])\n",
    "\n",
    "randomize = Button(description='Randomize')       \n",
    "randomize.on_click(on_randomize)"
   ]
  },
  {
   "cell_type": "markdown",
   "metadata": {},
   "source": [
    "Create a button to center all joints within their limits"
   ]
  },
  {
   "cell_type": "code",
   "execution_count": 10,
   "metadata": {
    "ExecuteTime": {
     "end_time": "2023-05-12T17:18:56.082371Z",
     "start_time": "2023-05-12T17:18:56.076216Z"
    }
   },
   "outputs": [],
   "source": [
    "def on_center(b):\n",
    "    set_joints([(widget, (widget.min + widget.max) / 2) for widget in joint_widgets])\n",
    "\n",
    "center = Button(description='Center')\n",
    "center.on_click(on_center)"
   ]
  },
  {
   "cell_type": "markdown",
   "metadata": {},
   "source": [
    "Collect all widgets (sliders and buttons) in a form and display them"
   ]
  },
  {
   "cell_type": "code",
   "execution_count": 11,
   "metadata": {
    "ExecuteTime": {
     "end_time": "2023-05-12T17:18:56.760695Z",
     "start_time": "2023-05-12T17:18:56.750268Z"
    },
    "scrolled": false
   },
   "outputs": [
    {
     "data": {
      "application/vnd.jupyter.widget-view+json": {
       "model_id": "a9200627fd9446d287b53ef527b14876",
       "version_major": 2,
       "version_minor": 0
      },
      "text/plain": [
       "Box(children=(FloatSlider(value=0.0, description='panda_joint1', max=2.9671, min=-2.9671, step=0.059342), Floa…"
      ]
     },
     "metadata": {},
     "output_type": "display_data"
    }
   ],
   "source": [
    "form_items = list(joint_widgets)\n",
    "form_items += [Box([center, randomize])]\n",
    "\n",
    "form = Box(form_items, layout=Layout(\n",
    "    display='flex',\n",
    "    flex_flow='column',\n",
    "    border='solid 2px',\n",
    "    align_items='stretch',\n",
    "    width='100%'\n",
    "))\n",
    "display(form)"
   ]
  },
  {
   "cell_type": "code",
   "execution_count": null,
   "metadata": {},
   "outputs": [],
   "source": []
  }
 ],
 "metadata": {
  "kernelspec": {
   "display_name": "Python 3 (ipykernel)",
   "language": "python",
   "name": "python3"
  },
  "language_info": {
   "codemirror_mode": {
    "name": "ipython",
    "version": 3
   },
   "file_extension": ".py",
   "mimetype": "text/x-python",
   "name": "python",
   "nbconvert_exporter": "python",
   "pygments_lexer": "ipython3",
   "version": "3.8.10"
  },
  "toc": {
   "base_numbering": 1,
   "nav_menu": {},
   "number_sections": true,
   "sideBar": true,
   "skip_h1_title": false,
   "title_cell": "Table of Contents",
   "title_sidebar": "Contents",
   "toc_cell": false,
   "toc_position": {},
   "toc_section_display": true,
   "toc_window_display": false
  }
 },
 "nbformat": 4,
 "nbformat_minor": 2
}
