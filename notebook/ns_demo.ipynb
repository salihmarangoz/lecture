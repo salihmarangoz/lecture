{
 "cells": [
  {
   "cell_type": "markdown",
   "metadata": {},
   "source": [
    "### Launch the ROS demo"
   ]
  },
  {
   "cell_type": "code",
   "execution_count": 1,
   "metadata": {
    "ExecuteTime": {
     "end_time": "2023-05-12T17:29:02.704813Z",
     "start_time": "2023-05-12T17:29:02.659220Z"
    }
   },
   "outputs": [],
   "source": [
    "%%bash --bg\n",
    "trap 'kill $(jobs -p)' EXIT\n",
    "xterm -e /bin/bash -l -c \"roslaunch demo.launch\""
   ]
  },
  {
   "cell_type": "markdown",
   "metadata": {},
   "source": [
    "Create the controller and run it periodically in a thread"
   ]
  },
  {
   "cell_type": "code",
   "execution_count": 2,
   "metadata": {
    "ExecuteTime": {
     "end_time": "2023-05-12T17:29:03.749856Z",
     "start_time": "2023-05-12T17:29:03.355224Z"
    }
   },
   "outputs": [],
   "source": [
    "import rospy\n",
    "import numpy\n",
    "from threading import Thread\n",
    "from controller import Controller, iPoseMarker\n",
    "from interactive_markers.interactive_marker_server import InteractiveMarkerServer\n",
    "from markers import addMarker, processFeedback\n",
    "\n",
    "rospy.init_node('ns_demo')\n",
    "c = Controller()\n",
    "#c.addConeMarker(iPoseMarker(c.T))\n",
    "ims = InteractiveMarkerServer('controller')\n",
    "addMarker(ims, iPoseMarker(c.T), processFeedback(c.setTarget))\n",
    "ims.applyChanges()"
   ]
  },
  {
   "cell_type": "code",
   "execution_count": 3,
   "metadata": {
    "ExecuteTime": {
     "end_time": "2023-05-12T17:29:07.007584Z",
     "start_time": "2023-05-12T17:29:07.000809Z"
    }
   },
   "outputs": [],
   "source": [
    "class Worker(Thread):\n",
    "    def __init__(self, *args, **kwargs): \n",
    "        super(Worker, self).__init__(*args, **kwargs) \n",
    "        self.stop = False\n",
    "        self.rate = rospy.Rate(200)\n",
    "    \n",
    "    def run(self):\n",
    "        c.reset()    \n",
    "        while not rospy.is_shutdown() and not self.stop:\n",
    "            target = c.targets['pose']\n",
    "            # position > orientation > joints\n",
    "            q_delta = c.solve([c.position_task(target, c.T),\n",
    "                               c.orientation_task(target, c.T),\n",
    "                               c.joint_task()])\n",
    "            # pose > joints\n",
    "            #q_delta = self.solve([c.pose_task(target, c.T), c.joint_task()])\n",
    "            c.actuate(q_delta)\n",
    "\n",
    "            self.rate.sleep()\n",
    "    \n",
    "try:  # stop previous thread if existing\n",
    "    t.stop = True\n",
    "except NameError:\n",
    "    pass\n",
    "\n",
    "t = Worker()\n",
    "t.start()"
   ]
  },
  {
   "cell_type": "markdown",
   "metadata": {},
   "source": [
    "Create a list of slider widgets, one for each joint, to chose the default pose"
   ]
  },
  {
   "cell_type": "code",
   "execution_count": 4,
   "metadata": {
    "ExecuteTime": {
     "end_time": "2023-05-12T17:29:08.819700Z",
     "start_time": "2023-05-12T17:29:08.682976Z"
    }
   },
   "outputs": [],
   "source": [
    "import ipywidgets\n",
    "from ipywidgets import FloatSlider, Layout, Button, Box\n",
    "joint_widgets = [FloatSlider(min = j.min, max = j.max, step = (j.max-j.min) / 100, description = j.name) \\\n",
    "                 for j in c.robot.active_joints]\n",
    "joint_weights = [FloatSlider(min = 0, max = 1, step = 0.01, value = 1, description = j.name) \\\n",
    "                 for j in c.robot.active_joints]\n",
    "task_dimensions = ['x', 'y', 'z', 'rx', 'ry', 'rz']\n",
    "task_weights = [FloatSlider(min = 0, max = 1, step = 0.01, value = 1, description = name) \\\n",
    "                for name in task_dimensions]"
   ]
  },
  {
   "cell_type": "markdown",
   "metadata": {},
   "source": [
    "React to slider (value) changes by adapting the default joint pose"
   ]
  },
  {
   "cell_type": "code",
   "execution_count": 5,
   "metadata": {
    "ExecuteTime": {
     "end_time": "2023-05-12T17:29:09.711099Z",
     "start_time": "2023-05-12T17:29:09.704707Z"
    }
   },
   "outputs": [],
   "source": [
    "def on_joint_preference(event):\n",
    "    widget = event.owner\n",
    "    c.preferred_joints[c.joint_msg.name.index(widget.description)] = widget.value\n",
    "\n",
    "for widget in joint_widgets:\n",
    "    widget.observe(on_joint_preference, 'value')"
   ]
  },
  {
   "cell_type": "code",
   "execution_count": 6,
   "metadata": {
    "ExecuteTime": {
     "end_time": "2023-05-12T17:29:10.282672Z",
     "start_time": "2023-05-12T17:29:10.279486Z"
    }
   },
   "outputs": [],
   "source": [
    "def on_joint_weight(event):\n",
    "    widget = event.owner\n",
    "    c.joint_weights[c.joint_msg.name.index(widget.description)] = widget.value\n",
    "\n",
    "for widget in joint_weights:\n",
    "    widget.observe(on_joint_weight, 'value')"
   ]
  },
  {
   "cell_type": "code",
   "execution_count": 7,
   "metadata": {
    "ExecuteTime": {
     "end_time": "2023-05-12T17:29:11.472506Z",
     "start_time": "2023-05-12T17:29:11.466333Z"
    }
   },
   "outputs": [],
   "source": [
    "def on_task_weight(event):\n",
    "    widget = event.owner\n",
    "    c.cartesian_weights[task_dimensions.index(widget.description)] = widget.value\n",
    "\n",
    "for widget in task_weights:\n",
    "    widget.observe(on_task_weight, 'value')"
   ]
  },
  {
   "cell_type": "markdown",
   "metadata": {},
   "source": [
    "Collect all widgets (sliders and buttons) in a form and display them"
   ]
  },
  {
   "cell_type": "code",
   "execution_count": 8,
   "metadata": {
    "ExecuteTime": {
     "end_time": "2023-05-12T17:29:12.176511Z",
     "start_time": "2023-05-12T17:29:12.157285Z"
    },
    "scrolled": false
   },
   "outputs": [
    {
     "data": {
      "application/vnd.jupyter.widget-view+json": {
       "model_id": "23158af6501e457698581d3203143e90",
       "version_major": 2,
       "version_minor": 0
      },
      "text/plain": [
       "Box(children=(Box(children=(FloatSlider(value=0.0, description='panda_joint1', max=2.9671, min=-2.9671, step=0…"
      ]
     },
     "metadata": {},
     "output_type": "display_data"
    }
   ],
   "source": [
    "layout = Layout(display='flex', flex_flow='column', border='solid 2px', align_items='stretch')\n",
    "form = Box([Box(w, layout=layout) for w in [joint_widgets, joint_weights, task_weights]])\n",
    "display(form)"
   ]
  },
  {
   "cell_type": "code",
   "execution_count": null,
   "metadata": {},
   "outputs": [],
   "source": []
  }
 ],
 "metadata": {
  "kernelspec": {
   "display_name": "Python 3 (ipykernel)",
   "language": "python",
   "name": "python3"
  },
  "language_info": {
   "codemirror_mode": {
    "name": "ipython",
    "version": 3
   },
   "file_extension": ".py",
   "mimetype": "text/x-python",
   "name": "python",
   "nbconvert_exporter": "python",
   "pygments_lexer": "ipython3",
   "version": "3.8.10"
  },
  "toc": {
   "base_numbering": 1,
   "nav_menu": {},
   "number_sections": true,
   "sideBar": true,
   "skip_h1_title": false,
   "title_cell": "Table of Contents",
   "title_sidebar": "Contents",
   "toc_cell": false,
   "toc_position": {},
   "toc_section_display": true,
   "toc_window_display": false
  }
 },
 "nbformat": 4,
 "nbformat_minor": 2
}
